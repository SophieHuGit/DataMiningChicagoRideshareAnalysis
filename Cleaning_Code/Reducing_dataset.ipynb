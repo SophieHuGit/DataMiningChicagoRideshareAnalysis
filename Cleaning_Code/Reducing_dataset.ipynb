{
 "cells": [
  {
   "cell_type": "code",
   "execution_count": 1,
   "metadata": {},
   "outputs": [],
   "source": [
    "import pandas as pd"
   ]
  },
  {
   "cell_type": "code",
   "execution_count": 2,
   "metadata": {},
   "outputs": [],
   "source": [
    "dat = pd.read_csv(\"merged_data.csv\")"
   ]
  },
  {
   "cell_type": "code",
   "execution_count": 3,
   "metadata": {},
   "outputs": [
    {
     "data": {
      "text/plain": [
       "5536744"
      ]
     },
     "execution_count": 3,
     "metadata": {},
     "output_type": "execute_result"
    }
   ],
   "source": [
    "len(dat)"
   ]
  },
  {
   "cell_type": "code",
   "execution_count": 5,
   "metadata": {},
   "outputs": [
    {
     "data": {
      "text/plain": [
       "Index(['Unnamed: 0', 'Unnamed: 0_x', 'trip_id', 'ride_type_id',\n",
       "       'start_timestamp_id', 'end_timestamp_id', 'duration_seconds', 'miles',\n",
       "       'fare', 'tip', 'tolls', 'extra_charges', 'trip_total', 'payment_type',\n",
       "       'pickup_centroid_location', 'dropoff_centroid_location', 'start_time',\n",
       "       'start_date', 'start_month', 'start_year', 'start_weekday', 'end_time',\n",
       "       'end_date', 'end_month', 'end_year', 'end_weekday',\n",
       "       'pickup_trip_region_id', 'pickup_base_region_id',\n",
       "       'dropoff_trip_region_id', 'dropoff_base_region_id',\n",
       "       'speed_pickup_start', 'speed_category_pickup_start',\n",
       "       'bus_count_pickup_start', 'gps_pings_pickup_start',\n",
       "       'speed_dropoff_start', 'speed_category_dropoff_start',\n",
       "       'bus_count_dropoff_start', 'gps_pings_dropoff_start',\n",
       "       'speed_pickup_end', 'speed_category_pickup_end', 'bus_count_pickup_end',\n",
       "       'gps_pings_pickup_end', 'speed_dropoff_end',\n",
       "       'speed_category_dropoff_end', 'bus_count_dropoff_end',\n",
       "       'gps_pings_dropoff_end', 'region_pickup', 'lat_centroid_pickup',\n",
       "       'long_centroid_pickup', 'region_dropoff', 'lat_centroid_dropoff',\n",
       "       'long_centroid_dropoff'],\n",
       "      dtype='object')"
      ]
     },
     "execution_count": 5,
     "metadata": {},
     "output_type": "execute_result"
    }
   ],
   "source": [
    "dat.columns"
   ]
  },
  {
   "cell_type": "markdown",
   "metadata": {},
   "source": [
    "**Delete the following columns:**  \n",
    "speed_dropoff_start             float64  \n",
    "speed_category_dropoff_start     object  \n",
    "bus_count_dropoff_start         float64  \n",
    "gps_pings_dropoff_start         float64  \n",
    "speed_pickup_end                float64  \n",
    "speed_category_pickup_end        object  \n",
    "bus_count_pickup_end            float64  \n",
    "gps_pings_pickup_end            float64  \n",
    "Unnamed: 0                        int64  \n",
    "Unnamed: 0_x                      int64  "
   ]
  },
  {
   "cell_type": "code",
   "execution_count": 27,
   "metadata": {},
   "outputs": [],
   "source": [
    "dat = dat.drop([\"speed_dropoff_start\", \"speed_category_dropoff_start\", \"bus_count_dropoff_start\",\n",
    "               \"gps_pings_dropoff_start\", \"speed_pickup_end\", \"speed_category_pickup_end\",\n",
    "               \"bus_count_pickup_end\", \"gps_pings_pickup_end\", \"Unnamed: 0\", \"Unnamed: 0_x\"], axis = 1)"
   ]
  },
  {
   "cell_type": "code",
   "execution_count": 29,
   "metadata": {
    "scrolled": true
   },
   "outputs": [
    {
     "data": {
      "text/plain": [
       "trip_id                         object\n",
       "ride_type_id                     int64\n",
       "start_timestamp_id              object\n",
       "end_timestamp_id                object\n",
       "duration_seconds               float64\n",
       "miles                          float64\n",
       "fare                           float64\n",
       "tip                            float64\n",
       "tolls                          float64\n",
       "extra_charges                  float64\n",
       "trip_total                     float64\n",
       "payment_type                    object\n",
       "pickup_centroid_location        object\n",
       "dropoff_centroid_location       object\n",
       "start_time                      object\n",
       "start_date                      object\n",
       "start_month                      int64\n",
       "start_year                       int64\n",
       "start_weekday                   object\n",
       "end_time                        object\n",
       "end_date                        object\n",
       "end_month                        int64\n",
       "end_year                         int64\n",
       "end_weekday                     object\n",
       "pickup_trip_region_id            int64\n",
       "pickup_base_region_id            int64\n",
       "dropoff_trip_region_id           int64\n",
       "dropoff_base_region_id           int64\n",
       "speed_pickup_start             float64\n",
       "speed_category_pickup_start     object\n",
       "bus_count_pickup_start         float64\n",
       "gps_pings_pickup_start         float64\n",
       "speed_dropoff_end              float64\n",
       "speed_category_dropoff_end      object\n",
       "bus_count_dropoff_end          float64\n",
       "gps_pings_dropoff_end          float64\n",
       "region_pickup                   object\n",
       "lat_centroid_pickup            float64\n",
       "long_centroid_pickup           float64\n",
       "region_dropoff                  object\n",
       "lat_centroid_dropoff           float64\n",
       "long_centroid_dropoff          float64\n",
       "dtype: object"
      ]
     },
     "execution_count": 29,
     "metadata": {},
     "output_type": "execute_result"
    }
   ],
   "source": [
    "dat.dtypes"
   ]
  },
  {
   "cell_type": "markdown",
   "metadata": {},
   "source": [
    "**Delete also these columns:**  \n",
    "start_timestamp_id              object  \n",
    "end_timestamp_id                object  \n",
    "trip_id                         object  \n",
    "pickup_trip_region_id            int64  \n",
    "pickup_base_region_id            int64  \n",
    "dropoff_trip_region_id           int64  \n",
    "dropoff_base_region_id           int64  \n",
    "pickup_centroid_location        object  \n",
    "dropoff_centroid_location       object  "
   ]
  },
  {
   "cell_type": "code",
   "execution_count": 30,
   "metadata": {},
   "outputs": [],
   "source": [
    "dat = dat.drop([\"start_timestamp_id\", \"end_timestamp_id\", \"trip_id\", \"pickup_trip_region_id\",\n",
    "               \"pickup_base_region_id\", \"dropoff_trip_region_id\", \"dropoff_base_region_id\", \n",
    "               \"pickup_centroid_location\", \"dropoff_centroid_location\"], axis = 1)"
   ]
  },
  {
   "cell_type": "code",
   "execution_count": 31,
   "metadata": {},
   "outputs": [
    {
     "data": {
      "text/plain": [
       "ride_type_id                     int64\n",
       "duration_seconds               float64\n",
       "miles                          float64\n",
       "fare                           float64\n",
       "tip                            float64\n",
       "tolls                          float64\n",
       "extra_charges                  float64\n",
       "trip_total                     float64\n",
       "payment_type                    object\n",
       "start_time                      object\n",
       "start_date                      object\n",
       "start_month                      int64\n",
       "start_year                       int64\n",
       "start_weekday                   object\n",
       "end_time                        object\n",
       "end_date                        object\n",
       "end_month                        int64\n",
       "end_year                         int64\n",
       "end_weekday                     object\n",
       "speed_pickup_start             float64\n",
       "speed_category_pickup_start     object\n",
       "bus_count_pickup_start         float64\n",
       "gps_pings_pickup_start         float64\n",
       "speed_dropoff_end              float64\n",
       "speed_category_dropoff_end      object\n",
       "bus_count_dropoff_end          float64\n",
       "gps_pings_dropoff_end          float64\n",
       "region_pickup                   object\n",
       "lat_centroid_pickup            float64\n",
       "long_centroid_pickup           float64\n",
       "region_dropoff                  object\n",
       "lat_centroid_dropoff           float64\n",
       "long_centroid_dropoff          float64\n",
       "dtype: object"
      ]
     },
     "execution_count": 31,
     "metadata": {},
     "output_type": "execute_result"
    }
   ],
   "source": [
    "dat.dtypes"
   ]
  },
  {
   "cell_type": "code",
   "execution_count": 32,
   "metadata": {},
   "outputs": [],
   "source": [
    "dat.to_csv(\"project_data.csv\")"
   ]
  }
 ],
 "metadata": {
  "kernelspec": {
   "display_name": "Python 3",
   "language": "python",
   "name": "python3"
  },
  "language_info": {
   "codemirror_mode": {
    "name": "ipython",
    "version": 3
   },
   "file_extension": ".py",
   "mimetype": "text/x-python",
   "name": "python",
   "nbconvert_exporter": "python",
   "pygments_lexer": "ipython3",
   "version": "3.7.4"
  }
 },
 "nbformat": 4,
 "nbformat_minor": 2
}
