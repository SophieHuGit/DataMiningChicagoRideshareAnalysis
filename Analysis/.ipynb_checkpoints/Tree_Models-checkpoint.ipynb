{
 "cells": [
  {
   "cell_type": "markdown",
   "metadata": {},
   "source": [
    "# Classification of Tippers vs Non-Tippers with Tree Models"
   ]
  },
  {
   "cell_type": "markdown",
   "metadata": {},
   "source": [
    "## Load necessary libraries"
   ]
  },
  {
   "cell_type": "code",
   "execution_count": 129,
   "metadata": {},
   "outputs": [],
   "source": [
    "import pandas as pd\n",
    "import numpy as np\n",
    "from sklearn import tree\n",
    "from sklearn.model_selection import train_test_split\n",
    "from sklearn.model_selection import GridSearchCV\n",
    "from sklearn.preprocessing import OneHotEncoder\n",
    "from sklearn.preprocessing import LabelEncoder\n",
    "from sklearn import metrics"
   ]
  },
  {
   "cell_type": "markdown",
   "metadata": {},
   "source": [
    "## Load data"
   ]
  },
  {
   "cell_type": "code",
   "execution_count": 90,
   "metadata": {},
   "outputs": [],
   "source": [
    "# Load data\n",
    "data = pd.read_csv(\"../../cleaned_data.csv\", index_col = 0)"
   ]
  },
  {
   "cell_type": "markdown",
   "metadata": {},
   "source": [
    "## Preparing the data for the model"
   ]
  },
  {
   "cell_type": "code",
   "execution_count": 91,
   "metadata": {},
   "outputs": [
    {
     "data": {
      "text/plain": [
       "duration_seconds               float64\n",
       "miles                          float64\n",
       "fare                           float64\n",
       "tip                            float64\n",
       "tolls                          float64\n",
       "extra_charges                  float64\n",
       "trip_total                     float64\n",
       "payment_type                    object\n",
       "start_month                      int64\n",
       "start_weekday                   object\n",
       "speed_pickup_start             float64\n",
       "speed_category_pickup_start     object\n",
       "bus_count_pickup_start         float64\n",
       "gps_pings_pickup_start         float64\n",
       "speed_dropoff_end              float64\n",
       "speed_category_dropoff_end      object\n",
       "bus_count_dropoff_end          float64\n",
       "gps_pings_dropoff_end          float64\n",
       "region_pickup                   object\n",
       "region_dropoff                  object\n",
       "tip_flag                         int64\n",
       "ride_type                       object\n",
       "flag_overnight                   int64\n",
       "total_no_tip                   float64\n",
       "start_hour                       int64\n",
       "flag_weekend                     int64\n",
       "dtype: object"
      ]
     },
     "execution_count": 91,
     "metadata": {},
     "output_type": "execute_result"
    }
   ],
   "source": [
    "data.dtypes"
   ]
  },
  {
   "cell_type": "code",
   "execution_count": 92,
   "metadata": {},
   "outputs": [],
   "source": [
    "# Separate categorical variables\n",
    "cat_vars = [\"payment_type\", \"start_weekday\", \"speed_category_pickup_start\", \"speed_category_dropoff_end\", \"region_pickup\", \n",
    "           \"region_dropoff\", \"tip_flag\", \"ride_type\", \"flag_overnight\", \"flag_weekend\"]"
   ]
  },
  {
   "cell_type": "code",
   "execution_count": 93,
   "metadata": {},
   "outputs": [],
   "source": [
    "# Convert into type categorial\n",
    "for var in cat_vars:\n",
    "    data[var] = data[var].astype('category')"
   ]
  },
  {
   "cell_type": "code",
   "execution_count": 94,
   "metadata": {},
   "outputs": [],
   "source": [
    "# Possible predictors\n",
    "feature_names = [\"duration_seconds\", \"miles\", \"payment_type\", \"start_month\", \"start_weekday\", \n",
    "                 \"speed_pickup_start\", \"speed_dropoff_end\", \"ride_type\", \"flag_overnight\", \"total_no_tip\", \n",
    "                 \"start_hour\", \"flag_weekend\"]\n",
    "# Possible target\n",
    "target_name = [\"tip_flag\"]"
   ]
  },
  {
   "cell_type": "markdown",
   "metadata": {},
   "source": [
    "## Encode categorical features"
   ]
  },
  {
   "cell_type": "markdown",
   "metadata": {},
   "source": [
    "Variables to encode:\n",
    "\n",
    "* Payment Type\n",
    "* Start Weekday\n",
    "* Ride Type"
   ]
  },
  {
   "cell_type": "markdown",
   "metadata": {},
   "source": [
    "### Encode Payment Type"
   ]
  },
  {
   "cell_type": "code",
   "execution_count": 95,
   "metadata": {},
   "outputs": [],
   "source": [
    "# Encode categorical variables with LabelEncoder (they are not ordinal)\n",
    "le = LabelEncoder()"
   ]
  },
  {
   "cell_type": "code",
   "execution_count": 96,
   "metadata": {},
   "outputs": [
    {
     "data": {
      "text/plain": [
       "LabelEncoder()"
      ]
     },
     "execution_count": 96,
     "metadata": {},
     "output_type": "execute_result"
    }
   ],
   "source": [
    "le.fit(data[\"payment_type\"])"
   ]
  },
  {
   "cell_type": "code",
   "execution_count": 97,
   "metadata": {},
   "outputs": [
    {
     "data": {
      "text/plain": [
       "['Card', 'Cash', 'Mobile', 'Other']"
      ]
     },
     "execution_count": 97,
     "metadata": {},
     "output_type": "execute_result"
    }
   ],
   "source": [
    "list(le.classes_)"
   ]
  },
  {
   "cell_type": "code",
   "execution_count": 98,
   "metadata": {},
   "outputs": [],
   "source": [
    "data[\"payment_type_encoded\"] = le.transform(data[\"payment_type\"])"
   ]
  },
  {
   "cell_type": "code",
   "execution_count": 99,
   "metadata": {},
   "outputs": [
    {
     "data": {
      "text/plain": [
       "array([1, 0, 2, 3])"
      ]
     },
     "execution_count": 99,
     "metadata": {},
     "output_type": "execute_result"
    }
   ],
   "source": [
    "data[\"payment_type_encoded\"].unique()"
   ]
  },
  {
   "cell_type": "markdown",
   "metadata": {},
   "source": [
    "### Encode Start Weekday"
   ]
  },
  {
   "cell_type": "code",
   "execution_count": 100,
   "metadata": {},
   "outputs": [
    {
     "data": {
      "text/plain": [
       "0             Friday\n",
       "1          Wednesday\n",
       "2             Sunday\n",
       "3            Tuesday\n",
       "4           Thursday\n",
       "             ...    \n",
       "5536739       Sunday\n",
       "5536740    Wednesday\n",
       "5536741     Thursday\n",
       "5536742       Friday\n",
       "5536743     Saturday\n",
       "Name: start_weekday, Length: 5536622, dtype: category\n",
       "Categories (7, object): [Friday, Monday, Saturday, Sunday, Thursday, Tuesday, Wednesday]"
      ]
     },
     "execution_count": 100,
     "metadata": {},
     "output_type": "execute_result"
    }
   ],
   "source": [
    "data.start_weekday"
   ]
  },
  {
   "cell_type": "code",
   "execution_count": 101,
   "metadata": {},
   "outputs": [],
   "source": [
    "weekday_map = {key:value for key, value in zip([\"Monday\", \"Tuesday\", \"Wednesday\", \"Thursday\", \"Friday\", \"Saturday\", \"Sunday\"], range(1,9))}"
   ]
  },
  {
   "cell_type": "code",
   "execution_count": 102,
   "metadata": {},
   "outputs": [
    {
     "data": {
      "text/plain": [
       "{'Monday': 1,\n",
       " 'Tuesday': 2,\n",
       " 'Wednesday': 3,\n",
       " 'Thursday': 4,\n",
       " 'Friday': 5,\n",
       " 'Saturday': 6,\n",
       " 'Sunday': 7}"
      ]
     },
     "execution_count": 102,
     "metadata": {},
     "output_type": "execute_result"
    }
   ],
   "source": [
    "weekday_map"
   ]
  },
  {
   "cell_type": "code",
   "execution_count": 103,
   "metadata": {},
   "outputs": [
    {
     "data": {
      "text/plain": [
       "0             Friday\n",
       "1          Wednesday\n",
       "2             Sunday\n",
       "3            Tuesday\n",
       "4           Thursday\n",
       "             ...    \n",
       "5536739       Sunday\n",
       "5536740    Wednesday\n",
       "5536741     Thursday\n",
       "5536742       Friday\n",
       "5536743     Saturday\n",
       "Name: start_weekday, Length: 5536622, dtype: category\n",
       "Categories (7, object): [Friday, Monday, Saturday, Sunday, Thursday, Tuesday, Wednesday]"
      ]
     },
     "execution_count": 103,
     "metadata": {},
     "output_type": "execute_result"
    }
   ],
   "source": [
    "data[\"start_weekday\"]"
   ]
  },
  {
   "cell_type": "code",
   "execution_count": 104,
   "metadata": {},
   "outputs": [],
   "source": [
    "data[\"start_weekday_encoded\"] = data[\"start_weekday\"].map(weekday_map)"
   ]
  },
  {
   "cell_type": "code",
   "execution_count": 105,
   "metadata": {},
   "outputs": [
    {
     "data": {
      "text/plain": [
       "0    5\n",
       "1    3\n",
       "2    7\n",
       "3    2\n",
       "4    4\n",
       "Name: start_weekday_encoded, dtype: category\n",
       "Categories (7, int64): [5, 1, 6, 7, 4, 2, 3]"
      ]
     },
     "execution_count": 105,
     "metadata": {},
     "output_type": "execute_result"
    }
   ],
   "source": [
    "data[\"start_weekday_encoded\"].head()"
   ]
  },
  {
   "cell_type": "markdown",
   "metadata": {},
   "source": [
    "## Encode Ride Type"
   ]
  },
  {
   "cell_type": "code",
   "execution_count": 113,
   "metadata": {},
   "outputs": [],
   "source": [
    "# Create map\n",
    "ride_map = {\"Taxi\": 1, \"Rideshare\": 2}"
   ]
  },
  {
   "cell_type": "code",
   "execution_count": 114,
   "metadata": {},
   "outputs": [],
   "source": [
    "data[\"ride_type_encoded\"] = data[\"ride_type\"].map(ride_map)"
   ]
  },
  {
   "cell_type": "code",
   "execution_count": 115,
   "metadata": {},
   "outputs": [
    {
     "data": {
      "text/plain": [
       "0    1\n",
       "1    1\n",
       "2    1\n",
       "3    1\n",
       "4    1\n",
       "Name: ride_type_encoded, dtype: category\n",
       "Categories (2, int64): [2, 1]"
      ]
     },
     "execution_count": 115,
     "metadata": {},
     "output_type": "execute_result"
    }
   ],
   "source": [
    "data[\"ride_type_encoded\"].head()"
   ]
  },
  {
   "cell_type": "markdown",
   "metadata": {},
   "source": [
    "## Select features and target"
   ]
  },
  {
   "cell_type": "code",
   "execution_count": 116,
   "metadata": {},
   "outputs": [],
   "source": [
    "# Predictors\n",
    "feature_names = [\"duration_seconds\", \"miles\", \"payment_type_encoded\", \"start_month\", \"start_weekday_encoded\", \n",
    "                 \"speed_pickup_start\", \"speed_dropoff_end\", \"ride_type_encoded\", \"flag_overnight\", \"total_no_tip\", \n",
    "                 \"start_hour\", \"flag_weekend\"]\n",
    "# Predicted variable\n",
    "target_name = [\"tip_flag\"]"
   ]
  },
  {
   "cell_type": "markdown",
   "metadata": {},
   "source": [
    "## Split into Train and Test"
   ]
  },
  {
   "cell_type": "code",
   "execution_count": 117,
   "metadata": {},
   "outputs": [],
   "source": [
    "# Separate into x and y\n",
    "x = data[feature_names]\n",
    "y = data[target_name]"
   ]
  },
  {
   "cell_type": "code",
   "execution_count": 118,
   "metadata": {},
   "outputs": [],
   "source": [
    "# Split into train and test samples\n",
    "x_train, x_test, y_train, y_test = train_test_split(x, y, random_state = 232323, train_size = 0.7)"
   ]
  },
  {
   "cell_type": "code",
   "execution_count": 119,
   "metadata": {},
   "outputs": [
    {
     "data": {
      "text/html": [
       "<div>\n",
       "<style scoped>\n",
       "    .dataframe tbody tr th:only-of-type {\n",
       "        vertical-align: middle;\n",
       "    }\n",
       "\n",
       "    .dataframe tbody tr th {\n",
       "        vertical-align: top;\n",
       "    }\n",
       "\n",
       "    .dataframe thead th {\n",
       "        text-align: right;\n",
       "    }\n",
       "</style>\n",
       "<table border=\"1\" class=\"dataframe\">\n",
       "  <thead>\n",
       "    <tr style=\"text-align: right;\">\n",
       "      <th></th>\n",
       "      <th>duration_seconds</th>\n",
       "      <th>miles</th>\n",
       "      <th>payment_type_encoded</th>\n",
       "      <th>start_month</th>\n",
       "      <th>start_weekday_encoded</th>\n",
       "      <th>speed_pickup_start</th>\n",
       "      <th>speed_dropoff_end</th>\n",
       "      <th>ride_type_encoded</th>\n",
       "      <th>flag_overnight</th>\n",
       "      <th>total_no_tip</th>\n",
       "      <th>start_hour</th>\n",
       "      <th>flag_weekend</th>\n",
       "    </tr>\n",
       "  </thead>\n",
       "  <tbody>\n",
       "    <tr>\n",
       "      <td>5076741</td>\n",
       "      <td>413.0</td>\n",
       "      <td>1.0</td>\n",
       "      <td>2</td>\n",
       "      <td>1</td>\n",
       "      <td>6</td>\n",
       "      <td>21.408000</td>\n",
       "      <td>21.326000</td>\n",
       "      <td>2</td>\n",
       "      <td>0</td>\n",
       "      <td>7.55</td>\n",
       "      <td>23</td>\n",
       "      <td>1</td>\n",
       "    </tr>\n",
       "    <tr>\n",
       "      <td>5444706</td>\n",
       "      <td>972.0</td>\n",
       "      <td>5.3</td>\n",
       "      <td>2</td>\n",
       "      <td>8</td>\n",
       "      <td>2</td>\n",
       "      <td>22.021667</td>\n",
       "      <td>18.976667</td>\n",
       "      <td>2</td>\n",
       "      <td>0</td>\n",
       "      <td>12.55</td>\n",
       "      <td>21</td>\n",
       "      <td>0</td>\n",
       "    </tr>\n",
       "    <tr>\n",
       "      <td>4790627</td>\n",
       "      <td>417.0</td>\n",
       "      <td>1.8</td>\n",
       "      <td>2</td>\n",
       "      <td>8</td>\n",
       "      <td>7</td>\n",
       "      <td>25.620000</td>\n",
       "      <td>25.620000</td>\n",
       "      <td>2</td>\n",
       "      <td>0</td>\n",
       "      <td>7.55</td>\n",
       "      <td>0</td>\n",
       "      <td>1</td>\n",
       "    </tr>\n",
       "    <tr>\n",
       "      <td>955347</td>\n",
       "      <td>448.0</td>\n",
       "      <td>1.1</td>\n",
       "      <td>2</td>\n",
       "      <td>9</td>\n",
       "      <td>1</td>\n",
       "      <td>18.001667</td>\n",
       "      <td>19.788333</td>\n",
       "      <td>2</td>\n",
       "      <td>0</td>\n",
       "      <td>7.55</td>\n",
       "      <td>18</td>\n",
       "      <td>0</td>\n",
       "    </tr>\n",
       "    <tr>\n",
       "      <td>4634742</td>\n",
       "      <td>388.0</td>\n",
       "      <td>1.3</td>\n",
       "      <td>2</td>\n",
       "      <td>4</td>\n",
       "      <td>6</td>\n",
       "      <td>19.396667</td>\n",
       "      <td>0.000000</td>\n",
       "      <td>2</td>\n",
       "      <td>0</td>\n",
       "      <td>5.05</td>\n",
       "      <td>3</td>\n",
       "      <td>1</td>\n",
       "    </tr>\n",
       "  </tbody>\n",
       "</table>\n",
       "</div>"
      ],
      "text/plain": [
       "         duration_seconds  miles  payment_type_encoded  start_month  \\\n",
       "5076741             413.0    1.0                     2            1   \n",
       "5444706             972.0    5.3                     2            8   \n",
       "4790627             417.0    1.8                     2            8   \n",
       "955347              448.0    1.1                     2            9   \n",
       "4634742             388.0    1.3                     2            4   \n",
       "\n",
       "        start_weekday_encoded  speed_pickup_start  speed_dropoff_end  \\\n",
       "5076741                     6           21.408000          21.326000   \n",
       "5444706                     2           22.021667          18.976667   \n",
       "4790627                     7           25.620000          25.620000   \n",
       "955347                      1           18.001667          19.788333   \n",
       "4634742                     6           19.396667           0.000000   \n",
       "\n",
       "        ride_type_encoded flag_overnight  total_no_tip  start_hour  \\\n",
       "5076741                 2              0          7.55          23   \n",
       "5444706                 2              0         12.55          21   \n",
       "4790627                 2              0          7.55           0   \n",
       "955347                  2              0          7.55          18   \n",
       "4634742                 2              0          5.05           3   \n",
       "\n",
       "        flag_weekend  \n",
       "5076741            1  \n",
       "5444706            0  \n",
       "4790627            1  \n",
       "955347             0  \n",
       "4634742            1  "
      ]
     },
     "execution_count": 119,
     "metadata": {},
     "output_type": "execute_result"
    }
   ],
   "source": [
    "x_train.head()"
   ]
  },
  {
   "cell_type": "markdown",
   "metadata": {},
   "source": [
    "## Training a Classification Tree with Cross Validation, on Train sample"
   ]
  },
  {
   "cell_type": "code",
   "execution_count": 120,
   "metadata": {},
   "outputs": [],
   "source": [
    "# Create dictionary with parameters to search and its values (in this case, only max_depth of the tree)\n",
    "parameters = {'max_depth':range(1,10)}\n",
    "# Search over the specified values of the parameters, for an estimator (in this case, DecisionTreeClassifier)\n",
    "# n_jobs indicates how many jobs to run in parallel\n",
    "tip_tree = GridSearchCV(estimator = tree.DecisionTreeClassifier(), param_grid = parameters, n_jobs=4)"
   ]
  },
  {
   "cell_type": "code",
   "execution_count": 121,
   "metadata": {},
   "outputs": [
    {
     "name": "stderr",
     "output_type": "stream",
     "text": [
      "/Users/luciaronchi/opt/anaconda3/lib/python3.7/site-packages/sklearn/model_selection/_split.py:1978: FutureWarning: The default value of cv will change from 3 to 5 in version 0.22. Specify it explicitly to silence this warning.\n",
      "  warnings.warn(CV_WARNING, FutureWarning)\n"
     ]
    },
    {
     "data": {
      "text/plain": [
       "GridSearchCV(cv='warn', error_score='raise-deprecating',\n",
       "             estimator=DecisionTreeClassifier(class_weight=None,\n",
       "                                              criterion='gini', max_depth=None,\n",
       "                                              max_features=None,\n",
       "                                              max_leaf_nodes=None,\n",
       "                                              min_impurity_decrease=0.0,\n",
       "                                              min_impurity_split=None,\n",
       "                                              min_samples_leaf=1,\n",
       "                                              min_samples_split=2,\n",
       "                                              min_weight_fraction_leaf=0.0,\n",
       "                                              presort=False, random_state=None,\n",
       "                                              splitter='best'),\n",
       "             iid='warn', n_jobs=4, param_grid={'max_depth': range(1, 10)},\n",
       "             pre_dispatch='2*n_jobs', refit=True, return_train_score=False,\n",
       "             scoring=None, verbose=0)"
      ]
     },
     "execution_count": 121,
     "metadata": {},
     "output_type": "execute_result"
    }
   ],
   "source": [
    "# Fit the model with cross validation to estimate best max_depth\n",
    "tip_tree.fit(X = x_train, y = y_train)"
   ]
  },
  {
   "cell_type": "code",
   "execution_count": 124,
   "metadata": {},
   "outputs": [],
   "source": [
    "tree_model = tip_tree.best_estimator_"
   ]
  },
  {
   "cell_type": "code",
   "execution_count": 125,
   "metadata": {},
   "outputs": [
    {
     "name": "stdout",
     "output_type": "stream",
     "text": [
      "0.8374305113871663 {'max_depth': 6}\n"
     ]
    }
   ],
   "source": [
    "print (tip_tree.best_score_, tip_tree.best_params_) "
   ]
  },
  {
   "cell_type": "markdown",
   "metadata": {},
   "source": [
    "## Results  \n",
    "https://www.datacamp.com/community/tutorials/decision-tree-classification-python"
   ]
  },
  {
   "cell_type": "markdown",
   "metadata": {},
   "source": [
    "### Accuracy in Train"
   ]
  },
  {
   "cell_type": "code",
   "execution_count": 127,
   "metadata": {},
   "outputs": [
    {
     "data": {
      "text/plain": [
       "0.8374488309657643"
      ]
     },
     "execution_count": 127,
     "metadata": {},
     "output_type": "execute_result"
    }
   ],
   "source": [
    "# Accuracy in train set\n",
    "tip_tree.score(x_train, y_train)"
   ]
  },
  {
   "cell_type": "markdown",
   "metadata": {},
   "source": [
    "### Accuracy in Test"
   ]
  },
  {
   "cell_type": "code",
   "execution_count": 135,
   "metadata": {},
   "outputs": [
    {
     "data": {
      "text/plain": [
       "0.8371877684774174"
      ]
     },
     "execution_count": 135,
     "metadata": {},
     "output_type": "execute_result"
    }
   ],
   "source": [
    "# Accuracy in test set\n",
    "tip_tree.score(x_test, y_test)"
   ]
  },
  {
   "cell_type": "markdown",
   "metadata": {},
   "source": [
    "### Confusion Matrix"
   ]
  },
  {
   "cell_type": "code",
   "execution_count": 136,
   "metadata": {},
   "outputs": [],
   "source": [
    "y_hat_test = tree_model.predict(x_test)"
   ]
  },
  {
   "cell_type": "code",
   "execution_count": 137,
   "metadata": {},
   "outputs": [
    {
     "name": "stdout",
     "output_type": "stream",
     "text": [
      "[[1286891  263780]\n",
      " [   6649  103667]]\n"
     ]
    }
   ],
   "source": [
    "print(metrics.confusion_matrix(y_hat_test, y_test))"
   ]
  },
  {
   "cell_type": "markdown",
   "metadata": {},
   "source": [
    "### Classification Report"
   ]
  },
  {
   "cell_type": "code",
   "execution_count": 134,
   "metadata": {},
   "outputs": [
    {
     "name": "stdout",
     "output_type": "stream",
     "text": [
      "              precision    recall  f1-score   support\n",
      "\n",
      "           0       0.99      0.83      0.90   1550671\n",
      "           1       0.28      0.94      0.43    110316\n",
      "\n",
      "    accuracy                           0.84   1660987\n",
      "   macro avg       0.64      0.88      0.67   1660987\n",
      "weighted avg       0.95      0.84      0.87   1660987\n",
      "\n"
     ]
    }
   ],
   "source": [
    "print(metrics.classification_report(y_hat_test, y_test))"
   ]
  },
  {
   "cell_type": "code",
   "execution_count": 145,
   "metadata": {},
   "outputs": [
    {
     "data": {
      "text/plain": [
       "0.28"
      ]
     },
     "execution_count": 145,
     "metadata": {},
     "output_type": "execute_result"
    }
   ],
   "source": [
    "# Precision: True positive / True positive + False positive (people that really tipped out of all the ones we said would tip)\n",
    "round(metrics.precision_score(y_hat_test, y_test), 2)\n",
    "# Precision is very bad"
   ]
  },
  {
   "cell_type": "code",
   "execution_count": 146,
   "metadata": {},
   "outputs": [
    {
     "data": {
      "text/plain": [
       "0.94"
      ]
     },
     "execution_count": 146,
     "metadata": {},
     "output_type": "execute_result"
    }
   ],
   "source": [
    "# Recall or Sensitivity: True positive / True Positive + False negative (identify people that tip out of all that actually tipped)\n",
    "round(metrics.recall_score(y_hat_test, y_test), 2)\n",
    "# Recall is very good"
   ]
  },
  {
   "cell_type": "code",
   "execution_count": 147,
   "metadata": {},
   "outputs": [
    {
     "data": {
      "text/plain": [
       "0.43"
      ]
     },
     "execution_count": 147,
     "metadata": {},
     "output_type": "execute_result"
    }
   ],
   "source": [
    "# F1 score: harmonic mean between precision and recall\n",
    "round(metrics.f1_score(y_hat_test, y_test), 2)"
   ]
  },
  {
   "cell_type": "code",
   "execution_count": null,
   "metadata": {},
   "outputs": [],
   "source": []
  }
 ],
 "metadata": {
  "kernelspec": {
   "display_name": "Python 3",
   "language": "python",
   "name": "python3"
  },
  "language_info": {
   "codemirror_mode": {
    "name": "ipython",
    "version": 3
   },
   "file_extension": ".py",
   "mimetype": "text/x-python",
   "name": "python",
   "nbconvert_exporter": "python",
   "pygments_lexer": "ipython3",
   "version": "3.7.4"
  }
 },
 "nbformat": 4,
 "nbformat_minor": 2
}
